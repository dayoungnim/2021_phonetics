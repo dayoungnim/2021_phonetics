{
  "nbformat": 4,
  "nbformat_minor": 0,
  "metadata": {
    "colab": {
      "name": "20210331 아애녹음 분석",
      "provenance": [],
      "authorship_tag": "ABX9TyOgmGfueNPZcxulEkYFxFrb",
      "include_colab_link": true
    },
    "kernelspec": {
      "name": "python3",
      "display_name": "Python 3"
    },
    "language_info": {
      "name": "python"
    }
  },
  "cells": [
    {
      "cell_type": "markdown",
      "metadata": {
        "id": "view-in-github",
        "colab_type": "text"
      },
      "source": [
        "<a href=\"https://colab.research.google.com/github/dayoungnim/class2021Spring/blob/main/20210331_%EC%95%84%EC%95%A0%EB%85%B9%EC%9D%8C_%EB%B6%84%EC%84%9D.ipynb\" target=\"_parent\"><img src=\"https://colab.research.google.com/assets/colab-badge.svg\" alt=\"Open In Colab\"/></a>"
      ]
    },
    {
      "cell_type": "code",
      "metadata": {
        "id": "qY-Lx3Ul4ZRT"
      },
      "source": [
        ""
      ],
      "execution_count": null,
      "outputs": []
    },
    {
      "cell_type": "markdown",
      "metadata": {
        "id": "MUFqh_wH4Zu6"
      },
      "source": [
        "#pitch\n",
        "\n",
        "아: 208.6Hz (0.482가 나오고)\n",
        "\n",
        "애: 195.6Hz  (0.447이 나온다)\n",
        "\n",
        "아>애인데 좀 비슷한거 같다.\n",
        "\n",
        "\n",
        "#Intensity\n",
        "\n",
        "아: 83.67 dB\n",
        "\n",
        "애: 76.69 dB\n",
        "\n",
        "아>애\n",
        "\n",
        "#formant\n",
        "\n",
        "아의 첫번째 formant: 989.6Hz\n",
        "\n",
        "아의 두번째 formant: 1532 Hz\n",
        "\n",
        "애의 첫번쨰 formant: 574.9Hz\n",
        "\n",
        "애의 두번쨰 formant: 2265 Hz\n",
        "\n",
        "애가 차이가 훨씬 크다.\n",
        "\n"
      ]
    }
  ]
}