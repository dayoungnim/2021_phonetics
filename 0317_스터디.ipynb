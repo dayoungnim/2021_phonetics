{
  "nbformat": 4,
  "nbformat_minor": 0,
  "metadata": {
    "colab": {
      "name": "0317 스터디",
      "provenance": [],
      "collapsed_sections": [],
      "authorship_tag": "ABX9TyNEsYV92V+oF9fmZ1V/tf9z",
      "include_colab_link": true
    },
    "kernelspec": {
      "name": "python3",
      "display_name": "Python 3"
    }
  },
  "cells": [
    {
      "cell_type": "markdown",
      "metadata": {
        "id": "view-in-github",
        "colab_type": "text"
      },
      "source": [
        "<a href=\"https://colab.research.google.com/github/dayoungnim/class2021Spring/blob/main/0317_%EC%8A%A4%ED%84%B0%EB%94%94.ipynb\" target=\"_parent\"><img src=\"https://colab.research.google.com/assets/colab-badge.svg\" alt=\"Open In Colab\"/></a>"
      ]
    },
    {
      "cell_type": "code",
      "metadata": {
        "colab": {
          "base_uri": "https://localhost:8080/"
        },
        "id": "WqtDbBz9OkoD",
        "outputId": "3d2f6f9e-518d-4f73-c787-f0dd755b2b68"
      },
      "source": [
        "#한번 딕셔너리로 도전!\r\n",
        "\r\n",
        "gr=input()\r\n",
        "if gr=='A':\r\n",
        "  print(\"best!!!\")\r\n",
        "if gr=='B':\r\n",
        "  print(\"good!!\")\r\n",
        "if gr=='C':\r\n",
        "  print(\"run!\")\r\n",
        "if gr=='D':\r\n",
        "  print(\"slowly~\")\r\n",
        "else:\r\n",
        "  print(\"what?\")"
      ],
      "execution_count": 73,
      "outputs": [
        {
          "output_type": "stream",
          "text": [
            "D\n",
            "what?\n"
          ],
          "name": "stdout"
        }
      ]
    },
    {
      "cell_type": "markdown",
      "metadata": {
        "id": "5tsTZ96-l9UI"
      },
      "source": [
        "6047) \r\n",
        "<<를 새로 배웠다! \r\n",
        "print(a<<b)는 무슨 뜻이냐 하면~~?\r\n",
        "a<<1 이면 a*2의 1승,\r\n",
        "a<<2이면 a*2의 2승 \r\n",
        "\r\n",
        "이렇게, a를 2의 b승배 곱한 값으로 출력하는 것이다!"
      ]
    },
    {
      "cell_type": "markdown",
      "metadata": {
        "id": "DMkxD-_VoFyM"
      },
      "source": [
        "6048) 비교/관계 연산자! (데이터 형 like 정수, 실수, 문자, 문자열 등)\r\n",
        "< > <= >= == != 이렇게 6개가 있다.\r\n",
        "\r\n",
        "ex) print(123<456) 하면 비교연산자 <(less than sign) 의 계산 결과인 True(참)가 출력 됨!"
      ]
    },
    {
      "cell_type": "markdown",
      "metadata": {
        "id": "-FkjsEfhpr5q"
      },
      "source": [
        "6052)\r\n",
        "boolean\r\n",
        "True: 1,2, ...999 any number will do except 0\r\n",
        "False: 0"
      ]
    },
    {
      "cell_type": "markdown",
      "metadata": {
        "id": "TWfdY35t-8zW"
      },
      "source": [
        "6056) 헐 나 이산수학에서 배운 거 써먹음 \r\n",
        "2개의 정수값이 입력될 때,\r\n",
        "그 불 값(True/False) 이 서로 다를 때에만 True 를 출력하는 프로그램을 작성해보자. -> exclusive or -> xor -> 연산자: ^\r\n",
        "\r\n",
        "풀이 예시 c = bool(int(a))\r\n",
        "d = bool(int(b))\r\n",
        "print((c and (not d)) or ((not c) and d)) 이건데 겁나 간단하게 했지롱 ㅋ"
      ]
    },
    {
      "cell_type": "markdown",
      "metadata": {
        "id": "xD4tsGOlA731"
      },
      "source": [
        "6057) a,b=input().split()\r\n",
        "ai=int(a)\r\n",
        "bi=int(b)\r\n",
        "boolai=bool(ai)\r\n",
        "boolbi=bool(bi)\r\n",
        "print((not boolai or boolbi) and (not boolbi or boolai))\r\n",
        "\r\n",
        "\r\n",
        "(not p or q) and (not q or p) 가 double implification 인데 꼭 괄호 해줘야 함! 아니면 제대로 안나오던디"
      ]
    },
    {
      "cell_type": "markdown",
      "metadata": {
        "id": "B6Qc_nmHErdX"
      },
      "source": [
        "6060) 비트단위 연산자! 10진수 입력해도 비트 단위로 쪼개서 계산해줌\r\n",
        "~(bitwise not), &(bitwise and), |(bitwise or), ^(bitwise xor),\r\n",
        "<<(bitwise left shift), >>(bitwise right shift)\r\n",
        "\r\n",
        "ex) 비트단위 and 연산은 두 비트열이 주어졌을 때,\r\n",
        "둘 다 1인 부분의 자리만 1로 만들어주는 것과 같다.\r\n",
        "\r\n",
        "비트단위 or 연산은 둘 중 하나라도 1인 자리를 1로 만들어주는 것과 같다.\r\n",
        "\r\n",
        "비트단위 xor 연산은 둘 중 하나만 (not both) 1인 자리를 1로 만들어준다.  \r\n",
        " (3       : 00000000 00000000 00000000 00000011\r\n",
        "\r\n",
        "\r\n",
        "5       : 00000000 00000000 00000000 00000101\r\n",
        "\r\n",
        "\r\n",
        "3 ^ 5 : 00000000 00000000 00000000 00000110)"
      ]
    },
    {
      "cell_type": "markdown",
      "metadata": {
        "id": "F6dQd0T-FsF3"
      },
      "source": [
        "6063) 3항 연산\r\n",
        "\r\n",
        "x if C else y의 형태\r\n",
        "\r\n",
        "C: T/F를 평가할 조건식 또는 값\r\n",
        "\r\n",
        "x: C의 평가 결과가 True일 때 사용\r\n",
        "\r\n",
        "y: C의 평가 결과가 True가 아닐 때 사용\r\n",
        "\r\n",
        "ex) 0 if 123>456 else 1"
      ]
    },
    {
      "cell_type": "markdown",
      "metadata": {
        "id": "1JNMyy1JIfWc"
      },
      "source": [
        "6065) \r\n",
        "\r\n",
        "[내 풀이]\r\n",
        "a,b,c=input().split()\r\n",
        "a=int(a)\r\n",
        "b=int(b)\r\n",
        "c=int(c)\r\n",
        "list=[a,b,c]\r\n",
        "for i in list:\r\n",
        "  if i%2==0:\r\n",
        "    print(i)\r\n",
        "\r\n",
        "[모범소스]\r\n",
        "a, b, c = input().split()\r\n",
        "\r\n",
        "a=int(a)\r\n",
        "b=int(b)\r\n",
        "c=int(c)\r\n",
        "\r\n",
        "if a%2==0:\r\n",
        "    print(a)\r\n",
        "    \r\n",
        "if b%2==0:\r\n",
        "    print(b)\r\n",
        "    \r\n",
        "if c%2==0:\r\n",
        "    print(c)"
      ]
    }
  ]
}