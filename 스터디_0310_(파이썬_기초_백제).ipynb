{
  "nbformat": 4,
  "nbformat_minor": 0,
  "metadata": {
    "colab": {
      "name": "스터디 0310 (파이썬 기초 백제)",
      "provenance": [],
      "collapsed_sections": [],
      "authorship_tag": "ABX9TyP+tYtMkBEIC7sJVq9FejBS",
      "include_colab_link": true
    },
    "kernelspec": {
      "name": "python3",
      "display_name": "Python 3"
    }
  },
  "cells": [
    {
      "cell_type": "markdown",
      "metadata": {
        "id": "view-in-github",
        "colab_type": "text"
      },
      "source": [
        "<a href=\"https://colab.research.google.com/github/dayoungnim/class2021Spring/blob/main/%EC%8A%A4%ED%84%B0%EB%94%94_0310_(%ED%8C%8C%EC%9D%B4%EC%8D%AC_%EA%B8%B0%EC%B4%88_%EB%B0%B1%EC%A0%9C).ipynb\" target=\"_parent\"><img src=\"https://colab.research.google.com/assets/colab-badge.svg\" alt=\"Open In Colab\"/></a>"
      ]
    },
    {
      "cell_type": "markdown",
      "metadata": {
        "id": "kMt_VouSi8kS"
      },
      "source": [
        "백슬래시 \\를 이용해서 '와 \"를 문자열에 포함시킬 수 있다,\r\n",
        "\t&#10024; \\를 '나 \"**앞에** 삽입하면 \\ 뒤의 '나 \"은 문자열을 둘러싸는 기호의 의미가 아니고 문자 ', \"자체를 뜻하게 된다!\t&#10024; 마찬가지로 \\\\로 \\표현\r\n",
        "\r\n",
        "그래서 print(\"\\\"!@#$%^&*()\\'\")나 print('\\\"!@#$%^&*()\\'')로 \",'를 동시에 출력할 수 있다.)"
      ]
    },
    {
      "cell_type": "markdown",
      "metadata": {
        "id": "Elq7WqNsoyth"
      },
      "source": [
        "&#10024;input() 이란 키보드로 입력한 값을 가져오는 것이다! \r\n",
        "변수=input()를 실행시키면 키보드로 입력한 값을 왼쪽 변수에 저장한다.&#10024;\r\n",
        "\r\n",
        "a=input()\r\n",
        "print(a)\r\n",
        "하면 내 입력을 받는 빈칸이 나오니까 거기다 입력하면 a에 들어간다."
      ]
    },
    {
      "cell_type": "markdown",
      "metadata": {
        "id": "2Guto5H_rslu"
      },
      "source": [
        "파이썬의 input은 한 줄 단위로 입력을 받는다.\r\n",
        "\r\n",
        "&#10024;input().split()을 사용하면, 공백을 기준으로 입력된 값을 나눠(split) 자른다!! \r\n",
        "따라서 a,b=input().split()를 실행하면 a=1, b=2 가 저장된다.&#10024;"
      ]
    },
    {
      "cell_type": "markdown",
      "metadata": {
        "id": "O_Pb5EGpuYaq"
      },
      "source": [
        "&#10024;a, b = input().split(':') #split(':')을 사용하여 콜론을 기준으로 자름! 그리고 콜론은 아무데도 포함 안됨.\r\n",
        "print(a, b, sep=':') #sep=':'은 콜론을 사이에 두고 값을 출력한다는 의미&#10024;\r\n",
        "\r\n",
        "\r\n",
        "\r\n",
        "몰랐던 것!!!\r\n",
        "&#10024;6. a=input()\r\n",
        "print(3*a) 이렇게 했을 때 a에 정수를 넣으면 (예:1) 3이 아니고 111이 나오던데 어떻게 해야 이 문제 해결?\r\n",
        "\r\n",
        "a,b=input().split()\r\n",
        "c=int(a)+int(b)\r\n",
        "print(c)\r\n",
        "\r\n",
        "아래 문제에서 보니까 이런식으로 int로 바꿔주던데 input은 무조건 문자열이 되는 것인가요?\r\n",
        "\r\n",
        "입력되는 값은 기본적으로 문자열로 인식된다고 함!!!!!!&#10024;"
      ]
    },
    {
      "cell_type": "markdown",
      "metadata": {
        "id": "w9Atz1ix5GXB"
      },
      "source": [
        "10진법: 0-9\r\n",
        "16진법: 0-9 다음은 a b c d e f! (a=10, b=11 ...)\r\n",
        "\r\n",
        "&#10024;%x: 16진수(hexadecimal)\r\n",
        "%o: 8진수(octal)\r\n",
        "\r\n",
        "a = input()\r\n",
        "n = int(a)            #입력된 a가 문자열이니까 10진수 정수 값으로 변환해 변수 n에 저장\r\n",
        "print('%x'% n)  #n에 저장되어있는 값을 16진수(hexadecimal) 소문자 형태 문자열로 출력, 대문자는? %X!!! &#10024;\r\n",
        "\r\n",
        "a = input()\r\n",
        "n = int(a, 16)     &#10024; #입력된 a를 16진수로 인식해 변수 n에 저장&#10024;\r\n",
        "print('%o' % n)  #n에 저장되어있는 값을 8진수(octal) 형태 문자열로 출력\r\n",
        "\r\n",
        "a = input() #내가 16진수를 받으려고 함 그래서 우선 인풋()을 함.\r\n",
        "n = int(a, 16)      #입력된 a를 16진수로 인식하고 변수 n에 저장하라는 뜻\r\n",
        "print('%o' % n)  #n에 저장되어있는 값을 8진수(octal) 형태 문자열로 출력\r\n",
        "\r\n",
        "16진수: https://dojang.io/mod/page/view.php?id=742\r\n",
        "\r\n",
        "유니코드!!\r\n",
        "n=ord(input()) #입력 받아서 ordinary position 순서위치로 변환! (유니코드는 각각 문자들에 정수값 순서대로 부여하고 있음 ex-A:65, B:66 등등)\r\n",
        "print(n) \r\n",
        "\r\n",
        "n=ord(input()) #d의 고유 번호\r\n",
        "print(chr(n+1)) #d으 고유번호+1은 e를 나태므로 char(e의 고유번호)는 e의 고유번호에 대한 글자이므로 e출력\r\n",
        "\r\n",
        "나눗셈!\r\n",
        "몫: //\r\n",
        "나머지: %\r\n",
        "\r\n",
        ". / 연산자를 사용하여 7 나누기 4를 하면 그 결과는 예상대로 1.75가 된다\r\n",
        "나눗셈 후 몫을 반환하는 // 연산자를 사용한 경우는, 정수값 1만 반환한다!\r\n"
      ]
    },
    {
      "cell_type": "markdown",
      "metadata": {
        "id": "-2wWy6wfFfon"
      },
      "source": [
        "round(수, 자릿수): 원하는 자리까지의 정확도로 반올림된 실수 값을 만듦!\r\n",
        "round(f,2)면 f에 저장된 수를 소수점 아래 3번쨰 자리에서 반올림해서 값을 만들어 소수점 아래 2자리까지 값을 반환해준다. 이 round로 처리된 값을 print로 출력하는 경우 소숫점 둘째자리 이상 불필요한 0이 있는 경우 출력되지 않는다."
      ]
    },
    {
      "cell_type": "markdown",
      "metadata": {
        "id": "Cw2JLnZ-lFmh"
      },
      "source": [
        "# 모르는 것\r\n",
        "\r\n",
        "1. 6007번: \"C:\\Download\\'hello'.py\"를 출력\r\n",
        "\r\n",
        "나와있는 힌트가 **\\도 안전하게 출력하려면 \\\\를 사용하는 것이 좋다.** 인데 내 생각에는 저 파일경로 자체가 문자열이라서 안그래도 될 것같았다! 근데 출력도 안되는 것 보니 문자열이 아닌 것이다. 그럼 뭐지?\r\n",
        "\r\n",
        "2. 문제풀 때: 그리고 또 모르겠는 것이 오류가 나면 아래 SEARCH STACK OVERFLOW가 뜬다. 왜 이게 스택 오버플로우이지? ![image.png](data:image/png;base64,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)"
      ]
    },
    {
      "cell_type": "markdown",
      "metadata": {
        "id": "9NOP4k48ndag"
      },
      "source": [
        "4. print(\"Hello\") print(\"World\") 대신 이렇게 중간에 공백문자를 넣어도  print(\"Hello\\nWorld\") 줄바꿈이 됐는데\r\n",
        "왜 input에서는 안되지?\r\n",
        "\r\n",
        "a=input()\r\n",
        "b=input()\r\n",
        "print(a)\r\n",
        "print(b)\r\n",
        "\r\n",
        "얘만 되고, print(a\\nb)는 안된다.\r\n",
        "\r\n",
        "5. f=input()\r\n",
        "print(f)\r\n",
        "print(f)\r\n",
        "print(f) 이것을 for문으로 하려면 어떻게 해야하낭\r\n",
        "\r\n",
        "\r\n",
        "7. \r\n",
        "s = input()\r\n",
        "print(s[0])\r\n",
        "print(s[1])\r\n",
        "\r\n",
        "이거 for로 할 수 있을 것 같은데 어떻게 할 수 있지?\r\n",
        "\r\n",
        "8. 내일까지 만들고 싶은 프로그램!\r\n",
        "[박성민] [오후 9:04] 357쪽부터 596쪽까지 있다고 할 때\r\n",
        "[박성민] [오후 9:04] 인당 6쪽식 가져가는 것을 기준으로 잡음\r\n",
        "\r\n",
        "357-362 이렇게 다 나눈상태로 출력하려면 어떻게 해야할까!?\r\n",
        "\r\n",
        "\r\n",
        "9. 6043번 문제:\r\n",
        "\r\n",
        "실수 2개(f1, f2)를 입력받아\r\n",
        "f1 을 f2 로 나눈 값을 출력해보자. 이 때 소숫점 넷째자리에서 반올림하여 무조건 소숫점 셋째 자리까지 출력한다.\r\n",
        "\r\n",
        "어째서 답이 \r\n",
        "\r\n",
        "f1,f2=input().split()\r\n",
        "a=float(f1)/float(f2)\r\n",
        "print(round(a,3))\r\n",
        "\r\n",
        "아닌것이지???\r\n",
        "\r\n",
        "10. 6045 정수 3개를 입력받아 합과 평균을 출력해보자.\r\n",
        "\r\n",
        "\r\n",
        "a,b,c,=input().split()\r\n",
        "a=float(a)\r\n",
        "b=float(b)\r\n",
        "c=float(c)\r\n",
        "sum=a+b+c\r\n",
        "\r\n",
        "print(sum)\r\n",
        "print(range(sum/3, 2))\r\n",
        "\r\n",
        "얜 왜 이게 아닌가??!?\r\n",
        "\r\n",
        "\r\n",
        "\r\n",
        "\r\n"
      ]
    }
  ]
}