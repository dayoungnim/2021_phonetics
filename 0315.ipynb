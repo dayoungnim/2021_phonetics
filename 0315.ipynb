{
  "nbformat": 4,
  "nbformat_minor": 0,
  "metadata": {
    "colab": {
      "name": "0315",
      "provenance": [],
      "authorship_tag": "ABX9TyO/hA2LI69e7LyxVXfgraqE",
      "include_colab_link": true
    },
    "kernelspec": {
      "name": "python3",
      "display_name": "Python 3"
    }
  },
  "cells": [
    {
      "cell_type": "markdown",
      "metadata": {
        "id": "view-in-github",
        "colab_type": "text"
      },
      "source": [
        "<a href=\"https://colab.research.google.com/github/dayoungnim/class2021Spring/blob/main/0315.ipynb\" target=\"_parent\"><img src=\"https://colab.research.google.com/assets/colab-badge.svg\" alt=\"Open In Colab\"/></a>"
      ]
    },
    {
      "cell_type": "markdown",
      "metadata": {
        "id": "qt7W8BgUgTGW"
      },
      "source": [
        "오늘 한 것 중에 신기한 것/알게된 것 정리!!!"
      ]
    },
    {
      "cell_type": "code",
      "metadata": {
        "colab": {
          "base_uri": "https://localhost:8080/"
        },
        "id": "pLjprQtzQih9",
        "outputId": "203d6b30-e43e-439e-8f94-3337d59e625d"
      },
      "source": [
        "a=1;print(type(a))"
      ],
      "execution_count": 1,
      "outputs": [
        {
          "output_type": "stream",
          "text": [
            "<class 'int'>\n"
          ],
          "name": "stdout"
        }
      ]
    },
    {
      "cell_type": "code",
      "metadata": {
        "colab": {
          "base_uri": "https://localhost:8080/"
        },
        "id": "MSofjVCSRhoV",
        "outputId": "41c639e7-6cee-4d67-e1aa-7be0affce881"
      },
      "source": [
        "a=1\r\n",
        "a\r\n",
        "b=2\r\n",
        "b #이러면 맨 끝에 있는 변수 하나만 나오거덩 그래서 print를 써야한단다~"
      ],
      "execution_count": 2,
      "outputs": [
        {
          "output_type": "execute_result",
          "data": {
            "text/plain": [
              "2"
            ]
          },
          "metadata": {
            "tags": []
          },
          "execution_count": 2
        }
      ]
    },
    {
      "cell_type": "code",
      "metadata": {
        "colab": {
          "base_uri": "https://localhost:8080/"
        },
        "id": "Iyrf_cm3RofG",
        "outputId": "3c2f6aa1-7a88-481f-e3b0-ff59f5d60df3"
      },
      "source": [
        "a=1\r\n",
        "print(a)\r\n",
        "b=2\r\n",
        "print(b) #이렇게용"
      ],
      "execution_count": 3,
      "outputs": [
        {
          "output_type": "stream",
          "text": [
            "1\n",
            "2\n"
          ],
          "name": "stdout"
        }
      ]
    },
    {
      "cell_type": "code",
      "metadata": {
        "colab": {
          "base_uri": "https://localhost:8080/"
        },
        "id": "KCLaZut3Ru7F",
        "outputId": "9390d836-cce6-4dc6-aebf-b67afe82bbe5"
      },
      "source": [
        "a=[1,'2', [3,'4']]\r\n",
        "print(a[1]) #시험임"
      ],
      "execution_count": 4,
      "outputs": [
        {
          "output_type": "stream",
          "text": [
            "2\n"
          ],
          "name": "stdout"
        }
      ]
    },
    {
      "cell_type": "code",
      "metadata": {
        "colab": {
          "base_uri": "https://localhost:8080/"
        },
        "id": "XycBm1_HVOC8",
        "outputId": "42a16c27-91f7-47e2-bbe1-150fd2ace7db"
      },
      "source": [
        "a=[1,'2',[3,'4']]; print(type(a)); print(a[0]); print(a[1]); print(a[2]) #시험"
      ],
      "execution_count": 5,
      "outputs": [
        {
          "output_type": "stream",
          "text": [
            "<class 'list'>\n",
            "1\n",
            "2\n",
            "[3, '4']\n"
          ],
          "name": "stdout"
        }
      ]
    },
    {
      "cell_type": "code",
      "metadata": {
        "colab": {
          "base_uri": "https://localhost:8080/"
        },
        "id": "OrA_i3BtXQTs",
        "outputId": "ec46fd12-7d4d-4622-84ad-fb854abd74c1"
      },
      "source": [
        "a=[1,2,3]\r\n",
        "a[0]=5\r\n",
        "a[0] #오호 이렇게 바꿀수도있답니다"
      ],
      "execution_count": 7,
      "outputs": [
        {
          "output_type": "execute_result",
          "data": {
            "text/plain": [
              "5"
            ]
          },
          "metadata": {
            "tags": []
          },
          "execution_count": 7
        }
      ]
    },
    {
      "cell_type": "code",
      "metadata": {
        "colab": {
          "base_uri": "https://localhost:8080/"
        },
        "id": "ZLukSkvtYk9u",
        "outputId": "062e55c7-5c18-476d-8518-998dd92dc2f9"
      },
      "source": [
        "s='abcdef'\r\n",
        "print(s[0], s[-1], s[5])\r\n",
        "print(s[1:3], s[:], s[:3], s[2:])\r\n",
        "print(s[1:-1])"
      ],
      "execution_count": 11,
      "outputs": [
        {
          "output_type": "stream",
          "text": [
            "a f f\n",
            "bc abcdef abc cdef\n",
            "bcde\n"
          ],
          "name": "stdout"
        }
      ]
    },
    {
      "cell_type": "code",
      "metadata": {
        "colab": {
          "base_uri": "https://localhost:8080/",
          "height": 35
        },
        "id": "Qon6Q8FFbIsh",
        "outputId": "1989dd29-0048-469c-cd19-30b5ba9bc664"
      },
      "source": [
        "s.upper()\r\n",
        "s #오 얘(.something()이렇게생긴애들)는 새로 어싸인을 해야한대요!!! 바로 안바꾸나바 그래서\r\n",
        "s=s.upper() #이렇게 해야\r\n",
        "s  #이렇게 나와여~ 아 몽미"
      ],
      "execution_count": 13,
      "outputs": [
        {
          "output_type": "execute_result",
          "data": {
            "application/vnd.google.colaboratory.intrinsic+json": {
              "type": "string"
            },
            "text/plain": [
              "'ABCDEF'"
            ]
          },
          "metadata": {
            "tags": []
          },
          "execution_count": 13
        }
      ]
    },
    {
      "cell_type": "code",
      "metadata": {
        "colab": {
          "base_uri": "https://localhost:8080/"
        },
        "id": "agcH7Tm1b8Mu",
        "outputId": "afcc3a3a-4ac2-4252-ba9e-5ee475a2f913"
      },
      "source": [
        "#rindex는 꺼꾸로?인가봐\r\n",
        "s=' this is a house built this year.\\n' \t\r\n",
        "#이며는 \r\n",
        "result=s.rindex('this')\r\n",
        "result"
      ],
      "execution_count": 19,
      "outputs": [
        {
          "output_type": "execute_result",
          "data": {
            "text/plain": [
              "23"
            ]
          },
          "metadata": {
            "tags": []
          },
          "execution_count": 19
        }
      ]
    },
    {
      "cell_type": "code",
      "metadata": {
        "colab": {
          "base_uri": "https://localhost:8080/",
          "height": 35
        },
        "id": "zz9vw7I_cYRJ",
        "outputId": "56df10ac-eecb-402f-caea-9d13e0e01717"
      },
      "source": [
        "s = s.strip()      \t            # a copy of s without leading or trailing whitespace\r\n",
        "s #\\n바바이"
      ],
      "execution_count": 20,
      "outputs": [
        {
          "output_type": "execute_result",
          "data": {
            "application/vnd.google.colaboratory.intrinsic+json": {
              "type": "string"
            },
            "text/plain": [
              "'this is a house built this year.'"
            ]
          },
          "metadata": {
            "tags": []
          },
          "execution_count": 20
        }
      ]
    },
    {
      "cell_type": "code",
      "metadata": {
        "colab": {
          "base_uri": "https://localhost:8080/"
        },
        "id": "J4W9w5tncoT3",
        "outputId": "b2edbe19-6591-4689-e88b-a594f99909b7"
      },
      "source": [
        "#완전 짱짱짱짱 대박대박 중요한 split!!!!!\r\n",
        "\r\n",
        "tokens = s.split(' ')\t        # split s into a list wherever a t is found (whitespace by default)\r\n",
        "tokens #각각 쪼개서 리스트로 만들어주기 떄문"
      ],
      "execution_count": 21,
      "outputs": [
        {
          "output_type": "execute_result",
          "data": {
            "text/plain": [
              "['this', 'is', 'a', 'house', 'built', 'this', 'year.']"
            ]
          },
          "metadata": {
            "tags": []
          },
          "execution_count": 21
        }
      ]
    },
    {
      "cell_type": "code",
      "metadata": {
        "colab": {
          "base_uri": "https://localhost:8080/",
          "height": 35
        },
        "id": "JldJZUYxcvSC",
        "outputId": "e2625004-6383-4c6e-fdc5-e914b85b3ab1"
      },
      "source": [
        "#스플릿이랑 정반대인 join \r\n",
        "s=' '.join(tokens)\r\n",
        "s"
      ],
      "execution_count": 22,
      "outputs": [
        {
          "output_type": "execute_result",
          "data": {
            "application/vnd.google.colaboratory.intrinsic+json": {
              "type": "string"
            },
            "text/plain": [
              "'this is a house built this year.'"
            ]
          },
          "metadata": {
            "tags": []
          },
          "execution_count": 22
        }
      ]
    },
    {
      "cell_type": "code",
      "metadata": {
        "colab": {
          "base_uri": "https://localhost:8080/"
        },
        "id": "tjUTiTDpfkGp",
        "outputId": "72e05378-a889-4528-e21f-c6c73f3038dd"
      },
      "source": [
        "for i in range(3): #하면은 0,1,2 이렇게 숫자 3개 만들어서\r\n",
        "  print(i) #이렇게댐"
      ],
      "execution_count": 23,
      "outputs": [
        {
          "output_type": "stream",
          "text": [
            "0\n",
            "1\n",
            "2\n"
          ],
          "name": "stdout"
        }
      ]
    },
    {
      "cell_type": "code",
      "metadata": {
        "colab": {
          "base_uri": "https://localhost:8080/"
        },
        "id": "BydNJA1Mfsx3",
        "outputId": "0a60dc57-71d3-48e2-a141-b944adfa2cb4"
      },
      "source": [
        "a=[1,2,3,4]\r\n",
        "for i in range (4): #응용! _인덱스 그니까 리스트를 바로 해서 적는 방법 또는 range를 사용하는 방법 이렇게 2가지가 있구나! 라는 걸 알면대요\r\n",
        "  print(a[i])"
      ],
      "execution_count": 24,
      "outputs": [
        {
          "output_type": "stream",
          "text": [
            "1\n",
            "2\n",
            "3\n",
            "4\n"
          ],
          "name": "stdout"
        }
      ]
    },
    {
      "cell_type": "code",
      "metadata": {
        "id": "5osnUxmogCq3"
      },
      "source": [
        "#안쪽 for부터 먼저 읽는다!!\r\n",
        "\r\n",
        "for i in range(1,3):\r\n",
        "  for j in range(3,5):\r\n",
        "    if j>=4:\r\n",
        "      print(i*j) #다시 보기 이게 뭐여"
      ],
      "execution_count": null,
      "outputs": []
    },
    {
      "cell_type": "code",
      "metadata": {
        "id": "S1tEuKgWgKtn"
      },
      "source": [
        "a=[1,2,3,4]\r\n",
        "b=[i for i in a if i>=2]\r\n",
        "b #얘는 낼 한대 "
      ],
      "execution_count": null,
      "outputs": []
    }
  ]
}