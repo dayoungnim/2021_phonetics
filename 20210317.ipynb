{
  "nbformat": 4,
  "nbformat_minor": 0,
  "metadata": {
    "colab": {
      "name": "20210317",
      "provenance": [],
      "collapsed_sections": [],
      "authorship_tag": "ABX9TyNj/1CmQWS5rfwDNrEYcsNd",
      "include_colab_link": true
    },
    "kernelspec": {
      "name": "python3",
      "display_name": "Python 3"
    }
  },
  "cells": [
    {
      "cell_type": "markdown",
      "metadata": {
        "id": "view-in-github",
        "colab_type": "text"
      },
      "source": [
        "<a href=\"https://colab.research.google.com/github/dayoungnim/class2021Spring/blob/main/20210317.ipynb\" target=\"_parent\"><img src=\"https://colab.research.google.com/assets/colab-badge.svg\" alt=\"Open In Colab\"/></a>"
      ]
    },
    {
      "cell_type": "markdown",
      "metadata": {
        "id": "LtdzhgXLuVSa"
      },
      "source": [
        "# 오늘 과제"
      ]
    },
    {
      "cell_type": "code",
      "metadata": {
        "colab": {
          "base_uri": "https://localhost:8080/"
        },
        "id": "ugdbdzLCueCX",
        "outputId": "04403fb5-9f12-43bf-aa06-7515e6bac238"
      },
      "source": [
        "for i in ['다영이','최다영']:\r\n",
        "  for j in ['짱','최고','완전짱','천재','바보임메롱']:\r\n",
        "    if len(j) <5:\r\n",
        "      print(i+j)"
      ],
      "execution_count": 22,
      "outputs": [
        {
          "output_type": "stream",
          "text": [
            "다영이짱\n",
            "다영이최고\n",
            "다영이완전짱\n",
            "다영이천재\n",
            "최다영짱\n",
            "최다영최고\n",
            "최다영완전짱\n",
            "최다영천재\n"
          ],
          "name": "stdout"
        }
      ]
    },
    {
      "cell_type": "code",
      "metadata": {
        "colab": {
          "base_uri": "https://localhost:8080/"
        },
        "id": "Eihg7CsBvXYI",
        "outputId": "954aedc8-e864-43e3-ea3e-0a35563a8656"
      },
      "source": [
        "DY=['최다영','다영이','다영이는짱','나는22살','왜벌써22살?']\r\n",
        "b=[i for i in DY if len(i)>=4]\r\n",
        "b"
      ],
      "execution_count": 24,
      "outputs": [
        {
          "output_type": "execute_result",
          "data": {
            "text/plain": [
              "['다영이는짱', '나는22살', '왜벌써22살?']"
            ]
          },
          "metadata": {
            "tags": []
          },
          "execution_count": 24
        }
      ]
    },
    {
      "cell_type": "markdown",
      "metadata": {
        "id": "o6Wo6Y3Fubhx"
      },
      "source": [
        "#이건 그냥 혼자 필기한 거"
      ]
    },
    {
      "cell_type": "code",
      "metadata": {
        "colab": {
          "base_uri": "https://localhost:8080/"
        },
        "id": "LGummsyrmJJK",
        "outputId": "2bf8cf2c-9c2b-4457-dec2-48720b83f14e"
      },
      "source": [
        "a=[1,2,3,4]\r\n",
        "for i in range(0,4): #0다음부터 4까지, 이거 range숫자 바꾸면 어떻게나올지 잘 알아야 함! range (1,5)하면 에러 나오는데 그 이유는 리스트에 5가 없어서\r\n",
        "  print(a[i])"
      ],
      "execution_count": 8,
      "outputs": [
        {
          "output_type": "stream",
          "text": [
            "1\n",
            "2\n",
            "3\n",
            "4\n"
          ],
          "name": "stdout"
        }
      ]
    },
    {
      "cell_type": "code",
      "metadata": {
        "colab": {
          "base_uri": "https://localhost:8080/"
        },
        "id": "HZpRHTrfoyIO",
        "outputId": "69a5cc16-73cc-4329-d99a-2deb18637a72"
      },
      "source": [
        "a=[1,2,3,4,5,6,7,8,9,10]\r\n",
        "for i in range(0,10,3): #range가 겁나 중요함!!!! 이거는 3개씩 차이나는거 \r\n",
        "  print(a[i])"
      ],
      "execution_count": 10,
      "outputs": [
        {
          "output_type": "stream",
          "text": [
            "1\n",
            "4\n",
            "7\n",
            "10\n"
          ],
          "name": "stdout"
        }
      ]
    },
    {
      "cell_type": "markdown",
      "metadata": {
        "id": "kqaP184io8E5"
      },
      "source": [
        "# in 다음에 바로 \r\n",
        "\r\n",
        "1) 리스트가 올 수 있다.\r\n",
        "\r\n",
        "2) 리스트를 바로 안쓰고 range라는 함수를 이용할 수 있는데, range 안에 숫자 1개, 2개, 3개가 들어갈 수 있으니 각각 어떻게 작용되는지 잘 알아보기!!"
      ]
    },
    {
      "cell_type": "code",
      "metadata": {
        "id": "k4O1yjAkqY_E"
      },
      "source": [
        "a=1\r\n",
        "if a==0:\r\n",
        "  print(a) #아무것도 안나오지롱"
      ],
      "execution_count": 12,
      "outputs": []
    },
    {
      "cell_type": "code",
      "metadata": {
        "colab": {
          "base_uri": "https://localhost:8080/"
        },
        "id": "GyQrpW_EpHKY",
        "outputId": "70946f42-1e8a-4938-ba7f-4a67ca751f6f"
      },
      "source": [
        "for i in range(1,3): #큰 것 부터 먼저 돌기-1,2를 i에다가 집어넣으면서 돌아가는ㄴ겨 1) 먼저 i는 1일 때, 2) 다음 i가 2일 때\r\n",
        "  for j in range(3,5): #그 다음 j에다가 3,4,돌면서 가는겨 1-2) j는 3과 4, 2-2) j는 3,4\r\n",
        "    print(i*j)"
      ],
      "execution_count": 13,
      "outputs": [
        {
          "output_type": "stream",
          "text": [
            "3\n",
            "4\n",
            "6\n",
            "8\n"
          ],
          "name": "stdout"
        }
      ]
    },
    {
      "cell_type": "code",
      "metadata": {
        "colab": {
          "base_uri": "https://localhost:8080/"
        },
        "id": "jziYkqOFr2sv",
        "outputId": "968ad51e-bddd-4698-d57f-53e06aa56a78"
      },
      "source": [
        "for i in range(1,3):\r\n",
        "  for j in range(3,5):\r\n",
        "    if j >=4:\r\n",
        "      print(i*j)"
      ],
      "execution_count": 14,
      "outputs": [
        {
          "output_type": "stream",
          "text": [
            "4\n",
            "8\n"
          ],
          "name": "stdout"
        }
      ]
    },
    {
      "cell_type": "code",
      "metadata": {
        "colab": {
          "base_uri": "https://localhost:8080/"
        },
        "id": "Axk7jFjjsd8M",
        "outputId": "5df981e3-67a3-4e02-aa2e-317b98ee2d60"
      },
      "source": [
        "a=[1,2,3,4]\r\n",
        "b=[i for i in a if i>=2] #for i in [1,2,3,4] 인데 만약에 i가 2보다 같거나 크면은 !!! 맨 앞에 i는 뭐냐면 그 i를 가지고 b를 만들어라임\r\n",
        "b #리스트가 출력됨쓰!! "
      ],
      "execution_count": 17,
      "outputs": [
        {
          "output_type": "execute_result",
          "data": {
            "text/plain": [
              "[2, 3, 4]"
            ]
          },
          "metadata": {
            "tags": []
          },
          "execution_count": 17
        }
      ]
    }
  ]
}