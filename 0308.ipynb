{
  "nbformat": 4,
  "nbformat_minor": 0,
  "metadata": {
    "colab": {
      "name": "0308.ipynb",
      "provenance": [],
      "authorship_tag": "ABX9TyMkR48/vbkhOONx1OCCM9q0",
      "include_colab_link": true
    },
    "kernelspec": {
      "name": "python3",
      "display_name": "Python 3"
    }
  },
  "cells": [
    {
      "cell_type": "markdown",
      "metadata": {
        "id": "view-in-github",
        "colab_type": "text"
      },
      "source": [
        "<a href=\"https://colab.research.google.com/github/dayoungnim/class2021Spring/blob/main/0308.ipynb\" target=\"_parent\"><img src=\"https://colab.research.google.com/assets/colab-badge.svg\" alt=\"Open In Colab\"/></a>"
      ]
    },
    {
      "cell_type": "code",
      "metadata": {
        "colab": {
          "base_uri": "https://localhost:8080/"
        },
        "id": "K-r8x4nJT5hx",
        "outputId": "95403463-c321-4cfe-ae31-e5564a476a9f"
      },
      "source": [
        "a=1\r\n",
        "b=1\r\n",
        "c=a+b\r\n",
        "c "
      ],
      "execution_count": 2,
      "outputs": [
        {
          "output_type": "execute_result",
          "data": {
            "text/plain": [
              "2"
            ]
          },
          "metadata": {
            "tags": []
          },
          "execution_count": 2
        }
      ]
    },
    {
      "cell_type": "markdown",
      "metadata": {
        "id": "MK0SvaF6UTLJ"
      },
      "source": [
        "# 오늘 배운 것:\r\n",
        "### 수업시간에 딴짓하지말고 그대로 따라가기 별 누르라면 눌르고 그래라~\r\n",
        "\r\n",
        "1.   윗부분(왼쪽)은 텍스트를 예쁘게 할 수 있음 (markdown)\r\n",
        "2.   아랫 부분(오른쪽)은 화면에 출력대는거\r\n",
        "3.   요게 주피터 노트북 -> ipynb \r\n",
        "\r\n",
        "\r\n"
      ]
    }
  ]
}