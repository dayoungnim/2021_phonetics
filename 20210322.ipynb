{
  "nbformat": 4,
  "nbformat_minor": 0,
  "metadata": {
    "colab": {
      "name": "20210322",
      "provenance": [],
      "collapsed_sections": [],
      "authorship_tag": "ABX9TyP5Sf7fWrj6qXijVkJCmzBv",
      "include_colab_link": true
    },
    "kernelspec": {
      "name": "python3",
      "display_name": "Python 3"
    },
    "language_info": {
      "name": "python"
    }
  },
  "cells": [
    {
      "cell_type": "markdown",
      "metadata": {
        "id": "view-in-github",
        "colab_type": "text"
      },
      "source": [
        "<a href=\"https://colab.research.google.com/github/dayoungnim/class2021Spring/blob/main/20210322.ipynb\" target=\"_parent\"><img src=\"https://colab.research.google.com/assets/colab-badge.svg\" alt=\"Open In Colab\"/></a>"
      ]
    },
    {
      "cell_type": "markdown",
      "metadata": {
        "id": "du9x9p3pW_uG"
      },
      "source": [
        "# 오늘의 수업 중 과제!\n",
        "#이차함수 만들기 x의 제곱은 x**2"
      ]
    },
    {
      "cell_type": "code",
      "metadata": {
        "colab": {
          "base_uri": "https://localhost:8080/"
        },
        "id": "Lon2dn3SW_bg",
        "outputId": "f0876e3c-07a2-4f93-a2a6-e11e3a06015b"
      },
      "source": [
        "def func2(x,a,b,c):\n",
        "  y=(a*x**2)+(b*x)+c\n",
        "  return y\n",
        "\n",
        "func2(2,3,4,11)"
      ],
      "execution_count": 28,
      "outputs": [
        {
          "output_type": "execute_result",
          "data": {
            "text/plain": [
              "31"
            ]
          },
          "metadata": {
            "tags": []
          },
          "execution_count": 28
        }
      ]
    },
    {
      "cell_type": "code",
      "metadata": {
        "id": "vFEJH1PTX9QI"
      },
      "source": [
        ""
      ],
      "execution_count": null,
      "outputs": []
    },
    {
      "cell_type": "markdown",
      "metadata": {
        "id": "BBDT2gqXW7C1"
      },
      "source": [
        "이건 걍 필기임 오늘의 0322 필기"
      ]
    },
    {
      "cell_type": "code",
      "metadata": {
        "id": "GeBsKZ7LUmjU"
      },
      "source": [
        "def add(a,b):\n",
        "  return a+b\n",
        "\n",
        "def subtract(a,b):\n",
        "  return a-b\n",
        "\n",
        "def multiply(a,b):\n",
        "  return a*b\n",
        "\n",
        "def divide (a,b):\n",
        "  return a/b\n",
        "\n",
        "def func1 (x):\n",
        "  a=1\n",
        "  b=2\n",
        "  y=ax+b\n",
        "  return y\n",
        "\n",
        "def func11(x,a,b):\n",
        "  y=a*x+b\n",
        "  return y\n",
        "\n",
        "\n",
        "#왜만드냐?"
      ],
      "execution_count": 11,
      "outputs": []
    },
    {
      "cell_type": "code",
      "metadata": {
        "colab": {
          "base_uri": "https://localhost:8080/"
        },
        "id": "UqrUWKM4VuDc",
        "outputId": "a9a229db-2651-4c87-ccd5-ec1d5d4e58d2"
      },
      "source": [
        "c=add(1,2); print(c)\n",
        "c=func11(1,2,3); print(c)"
      ],
      "execution_count": 12,
      "outputs": [
        {
          "output_type": "stream",
          "text": [
            "3\n",
            "5\n"
          ],
          "name": "stdout"
        }
      ]
    },
    {
      "cell_type": "code",
      "metadata": {
        "id": "cxB9eRDJWEMY"
      },
      "source": [
        "def add (a,b):\n",
        "  c=a+b #이렇게 return으로 출력안하면"
      ],
      "execution_count": 13,
      "outputs": []
    },
    {
      "cell_type": "code",
      "metadata": {
        "colab": {
          "base_uri": "https://localhost:8080/"
        },
        "id": "cUbEc9kbWGys",
        "outputId": "536652bf-7fde-4f18-8673-2a1b56f4f9c7"
      },
      "source": [
        "c=add(1,2); print(c)  #이렇게 오류는 안나고 None으로 출력댐 오호 참신기하구나 "
      ],
      "execution_count": 14,
      "outputs": [
        {
          "output_type": "stream",
          "text": [
            "None\n"
          ],
          "name": "stdout"
        }
      ]
    },
    {
      "cell_type": "code",
      "metadata": {
        "id": "bYeeapUxWRi_"
      },
      "source": [
        "def add():\n",
        "  a=1 #입력도 없으면?"
      ],
      "execution_count": 17,
      "outputs": []
    },
    {
      "cell_type": "code",
      "metadata": {
        "colab": {
          "base_uri": "https://localhost:8080/"
        },
        "id": "zn-Q_pFbWTrH",
        "outputId": "72a9c000-03a2-47c3-cb54-20bfd2065b3a"
      },
      "source": [
        "add(); print(c) #얘도 오류 안나고 None 따라서 입력/출력 없이함수를 만들 수 있다! 할수잇는일은 없지마는 "
      ],
      "execution_count": 18,
      "outputs": [
        {
          "output_type": "stream",
          "text": [
            "None\n"
          ],
          "name": "stdout"
        }
      ]
    },
    {
      "cell_type": "code",
      "metadata": {
        "id": "gHzEiAe8WeDK"
      },
      "source": [
        "def add(a,b):\n",
        "  return a,b"
      ],
      "execution_count": 19,
      "outputs": []
    },
    {
      "cell_type": "code",
      "metadata": {
        "colab": {
          "base_uri": "https://localhost:8080/"
        },
        "id": "wZYjb9DtWg-W",
        "outputId": "bad76020-7157-4b21-b616-1853cebe92c3"
      },
      "source": [
        "result=add(1,2); print(result)\n",
        "type(result)"
      ],
      "execution_count": 21,
      "outputs": [
        {
          "output_type": "stream",
          "text": [
            "(1, 2)\n"
          ],
          "name": "stdout"
        },
        {
          "output_type": "execute_result",
          "data": {
            "text/plain": [
              "tuple"
            ]
          },
          "metadata": {
            "tags": []
          },
          "execution_count": 21
        }
      ]
    }
  ]
}