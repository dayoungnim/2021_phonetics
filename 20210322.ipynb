{
  "nbformat": 4,
  "nbformat_minor": 0,
  "metadata": {
    "colab": {
      "name": "20210322",
      "provenance": [],
      "collapsed_sections": [],
      "authorship_tag": "ABX9TyP2vz0BGptciatgCiFTUX2+",
      "include_colab_link": true
    },
    "kernelspec": {
      "name": "python3",
      "display_name": "Python 3"
    },
    "language_info": {
      "name": "python"
    }
  },
  "cells": [
    {
      "cell_type": "markdown",
      "metadata": {
        "id": "view-in-github",
        "colab_type": "text"
      },
      "source": [
        "<a href=\"https://colab.research.google.com/github/dayoungnim/class2021Spring/blob/main/20210322.ipynb\" target=\"_parent\"><img src=\"https://colab.research.google.com/assets/colab-badge.svg\" alt=\"Open In Colab\"/></a>"
      ]
    },
    {
      "cell_type": "markdown",
      "metadata": {
        "id": "du9x9p3pW_uG"
      },
      "source": [
        "# 오늘의 수업 중 과제!\n",
        "#이차함수 만들기 x의 제곱은 x**2"
      ]
    },
    {
      "cell_type": "code",
      "metadata": {
        "colab": {
          "base_uri": "https://localhost:8080/"
        },
        "id": "Lon2dn3SW_bg",
        "outputId": "f0876e3c-07a2-4f93-a2a6-e11e3a06015b"
      },
      "source": [
        "def func2(x,a,b,c):\n",
        "  y=(a*x**2)+(b*x)+c\n",
        "  return y\n",
        "\n",
        "func2(2,3,4,11)"
      ],
      "execution_count": null,
      "outputs": [
        {
          "output_type": "execute_result",
          "data": {
            "text/plain": [
              "31"
            ]
          },
          "metadata": {
            "tags": []
          },
          "execution_count": 28
        }
      ]
    },
    {
      "cell_type": "markdown",
      "metadata": {
        "id": "BBDT2gqXW7C1"
      },
      "source": [
        "이건 걍 필기임 오늘의 0322 필기"
      ]
    },
    {
      "cell_type": "code",
      "metadata": {
        "id": "GeBsKZ7LUmjU"
      },
      "source": [
        "def add(a,b):\n",
        "  return a+b\n",
        "\n",
        "def subtract(a,b):\n",
        "  return a-b\n",
        "\n",
        "def multiply(a,b):\n",
        "  return a*b\n",
        "\n",
        "def divide (a,b):\n",
        "  return a/b\n",
        "\n",
        "def func1 (x):\n",
        "  a=1\n",
        "  b=2\n",
        "  y=ax+b\n",
        "  return y\n",
        "\n",
        "def func11(x,a,b):\n",
        "  y=a*x+b\n",
        "  return y\n",
        "\n",
        "\n",
        "#왜만드냐?"
      ],
      "execution_count": null,
      "outputs": []
    },
    {
      "cell_type": "code",
      "metadata": {
        "colab": {
          "base_uri": "https://localhost:8080/"
        },
        "id": "UqrUWKM4VuDc",
        "outputId": "a9a229db-2651-4c87-ccd5-ec1d5d4e58d2"
      },
      "source": [
        "c=add(1,2); print(c)\n",
        "c=func11(1,2,3); print(c)"
      ],
      "execution_count": null,
      "outputs": [
        {
          "output_type": "stream",
          "text": [
            "3\n",
            "5\n"
          ],
          "name": "stdout"
        }
      ]
    },
    {
      "cell_type": "code",
      "metadata": {
        "id": "cxB9eRDJWEMY"
      },
      "source": [
        "def add (a,b):\n",
        "  c=a+b #이렇게 return으로 출력안하면"
      ],
      "execution_count": null,
      "outputs": []
    },
    {
      "cell_type": "code",
      "metadata": {
        "colab": {
          "base_uri": "https://localhost:8080/"
        },
        "id": "cUbEc9kbWGys",
        "outputId": "536652bf-7fde-4f18-8673-2a1b56f4f9c7"
      },
      "source": [
        "c=add(1,2); print(c)  #이렇게 오류는 안나고 None으로 출력댐 오호 참신기하구나 "
      ],
      "execution_count": null,
      "outputs": [
        {
          "output_type": "stream",
          "text": [
            "None\n"
          ],
          "name": "stdout"
        }
      ]
    },
    {
      "cell_type": "code",
      "metadata": {
        "id": "bYeeapUxWRi_"
      },
      "source": [
        "def add():\n",
        "  a=1 #입력도 없으면?"
      ],
      "execution_count": null,
      "outputs": []
    },
    {
      "cell_type": "code",
      "metadata": {
        "colab": {
          "base_uri": "https://localhost:8080/"
        },
        "id": "zn-Q_pFbWTrH",
        "outputId": "72a9c000-03a2-47c3-cb54-20bfd2065b3a"
      },
      "source": [
        "add(); print(c) #얘도 오류 안나고 None 따라서 입력/출력 없이함수를 만들 수 있다! 할수잇는일은 없지마는 "
      ],
      "execution_count": null,
      "outputs": [
        {
          "output_type": "stream",
          "text": [
            "None\n"
          ],
          "name": "stdout"
        }
      ]
    },
    {
      "cell_type": "code",
      "metadata": {
        "id": "gHzEiAe8WeDK"
      },
      "source": [
        "def add(a,b):\n",
        "  return a,b"
      ],
      "execution_count": null,
      "outputs": []
    },
    {
      "cell_type": "code",
      "metadata": {
        "colab": {
          "base_uri": "https://localhost:8080/"
        },
        "id": "wZYjb9DtWg-W",
        "outputId": "bad76020-7157-4b21-b616-1853cebe92c3"
      },
      "source": [
        "result=add(1,2); print(result)\n",
        "type(result)"
      ],
      "execution_count": null,
      "outputs": [
        {
          "output_type": "stream",
          "text": [
            "(1, 2)\n"
          ],
          "name": "stdout"
        },
        {
          "output_type": "execute_result",
          "data": {
            "text/plain": [
              "tuple"
            ]
          },
          "metadata": {
            "tags": []
          },
          "execution_count": 21
        }
      ]
    },
    {
      "cell_type": "markdown",
      "metadata": {
        "id": "P-JBFSQoaqZu"
      },
      "source": [
        "함수 module\n",
        "변수 a=1 \n",
        "함수와 변수를 함께 모듈화 한것이 class이다\n",
        "\n",
        "class란? oop인데 object oriented program 이다.\n",
        "파이썬은 클래스가 아주 개념이 잘돼있다 이게 무슨마린지~?!~??~!? 모지뭐지뭐지모지모야 뭐"
      ]
    },
    {
      "cell_type": "code",
      "metadata": {
        "id": "CgG5Uu-Jaq_i"
      },
      "source": [
        "class cal: #클래스 정의 / 클래스는 함수+변수가 동시에 덩어리로 뭠메메?? / 여기서 변수는 self.result임 여기서 result가 변수라고용용? \n",
        "#self는 이 클래스가 만들어내는 자기 자신이래\n",
        "  def __init__(self): #제일 처음 이 객체를 쓸 때 이 밑에 있는 문장이 실행되는 거\n",
        "    self.result=0 #나자신(self)의로 뭠메메?? / 여기서 변수는 self.result임 여기서 result가 변수라고용용? \n",
        "     #나자신의 변수인 result에다가 에다가 0을 넣어라 이말임 이게 실행이되는겨 여기까지는 걍 암기하세여암기\n",
        "  def add(self,n):\n",
        "    self.result+=n\n",
        "    return self.result"
      ],
      "execution_count": null,
      "outputs": []
    },
    {
      "cell_type": "code",
      "metadata": {
        "id": "X6yoGnd6cQKE",
        "colab": {
          "base_uri": "https://localhost:8080/"
        },
        "outputId": "33ec010e-d1f4-4946-cbb1-907c8620b16f"
      },
      "source": [
        "#이제 저 클래스를 써보겠다\n",
        "\n",
        "A=cal() #A는 객체 A라는 객체를 찍어냈다\n",
        "A.result #Self는 A를 지칭하는 것"
      ],
      "execution_count": null,
      "outputs": [
        {
          "output_type": "execute_result",
          "data": {
            "text/plain": [
              "0"
            ]
          },
          "metadata": {
            "tags": []
          },
          "execution_count": 2
        }
      ]
    },
    {
      "cell_type": "code",
      "metadata": {
        "id": "mi3EKA4BcxVR",
        "colab": {
          "base_uri": "https://localhost:8080/"
        },
        "outputId": "1ac8faf4-5dfd-41d0-91da-4f2f6e249503"
      },
      "source": [
        "A.add(4) #self는 안쓰는거라공?A니까? 아 못들음 "
      ],
      "execution_count": null,
      "outputs": [
        {
          "output_type": "execute_result",
          "data": {
            "text/plain": [
              "4"
            ]
          },
          "metadata": {
            "tags": []
          },
          "execution_count": 3
        }
      ]
    },
    {
      "cell_type": "code",
      "metadata": {
        "id": "uym1O057dNVc",
        "colab": {
          "base_uri": "https://localhost:8080/"
        },
        "outputId": "4d2629af-8e32-40cb-ce07-d372e2681bc2"
      },
      "source": [
        "A.add(6)"
      ],
      "execution_count": null,
      "outputs": [
        {
          "output_type": "execute_result",
          "data": {
            "text/plain": [
              "10"
            ]
          },
          "metadata": {
            "tags": []
          },
          "execution_count": 4
        }
      ]
    },
    {
      "cell_type": "markdown",
      "metadata": {
        "id": "ryKIvmSQdYLZ"
      },
      "source": [
        "과자 틀이 class 과자틀에 의해 만들어진 하나하나가 객체이니라"
      ]
    },
    {
      "cell_type": "code",
      "metadata": {
        "id": "wVbRQccXdbd1"
      },
      "source": [
        "B=cal()\n",
        "#B라는 객체하나 더 탄생쓰"
      ],
      "execution_count": null,
      "outputs": []
    },
    {
      "cell_type": "code",
      "metadata": {
        "id": "bs-CzBWTdfZh",
        "colab": {
          "base_uri": "https://localhost:8080/"
        },
        "outputId": "278d65ed-faed-4251-e118-bfe6fd95e249"
      },
      "source": [
        "B.result #B는 새로 만든거잖어 그니까 그냥 0이야 10이아니고 이놈아"
      ],
      "execution_count": null,
      "outputs": [
        {
          "output_type": "execute_result",
          "data": {
            "text/plain": [
              "0"
            ]
          },
          "metadata": {
            "tags": []
          },
          "execution_count": 6
        }
      ]
    },
    {
      "cell_type": "code",
      "metadata": {
        "id": "UKidn-nYdkb-",
        "colab": {
          "base_uri": "https://localhost:8080/"
        },
        "outputId": "492f610a-d621-4e6a-9d05-8a2795bf37b1"
      },
      "source": [
        "B.add(9)"
      ],
      "execution_count": null,
      "outputs": [
        {
          "output_type": "execute_result",
          "data": {
            "text/plain": [
              "9"
            ]
          },
          "metadata": {
            "tags": []
          },
          "execution_count": 8
        }
      ]
    },
    {
      "cell_type": "markdown",
      "metadata": {
        "id": "nXHPCM7Zdqtg"
      },
      "source": [
        "모파썬에서 class부분 잘 읽어서 숙지해놓기! "
      ]
    },
    {
      "cell_type": "markdown",
      "metadata": {
        "id": "KtUbQlB1d6Dx"
      },
      "source": [
        "그리고 모듈이랑 패키지도 해야한대 오마이갓"
      ]
    },
    {
      "cell_type": "code",
      "metadata": {
        "id": "KHfO7oJceLX5"
      },
      "source": [
        " #def __init__(self): #제일 처음 이 객체를 쓸 때 이 밑에 있는 문장이 실행되는 거\n",
        "    #self.result=0 #나자신(self)의로 뭠메메?? / 여기서 변수는 self.result임 여기서 result가 변수라고용용? \n",
        "     #나자신의 변수인 result에다가 에다가 0을 넣어라 이말임 이게 실행이되는겨 여기까지는 걍 암기하세여암기\n",
        "\n",
        "     #이부분 있잖냐 이거는 초기화 안하고 싶으면 안해줘도된대! 우선적어놓으자 너무어렵\n",
        "     #그리고 init그거는 맨 밑에있어도 먼저 실행이 된대 정말 신기하구나 ! ㅎ호호"
      ],
      "execution_count": null,
      "outputs": []
    },
    {
      "cell_type": "markdown",
      "metadata": {
        "id": "eXEJVf96e5QG"
      },
      "source": [
        "#모듈은 클래스랑 함수들을 여러가지를 많이 모아놓은거야! 그거는 파일이름이 .ipynb가 아니고  .py로 된대 \n",
        "\n",
        "이 형태가 겁나 여러개 모아놓은 파일=module\n",
        "![image.png](data:image/png;base64,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)"
      ]
    },
    {
      "cell_type": "markdown",
      "metadata": {
        "id": "wPQVYb33fJTT"
      },
      "source": [
        "패키지는 뭐냐면은 !\n",
        "\n",
        "mod1.py / mod2.py / mod3.py 이렇게 를 한 폴더 (ex-A)에 넣어놓을 수 있당당\n",
        "또 엄청 많은 폴더를 또 계층적으로 만들 수 있징징 그리고 또 그 폴더들을 다 합쳐서 A' 라고 할 수도있는데 그 게 바 로 패키지!!!!\n",
        "\n",
        "module은 파일! / 패키지는 그 모듈 파일들을 다 묶은거\n",
        "\n",
        "mod2.py 안에는 class랑 func이 들어있자나 \n",
        "import를 어떻게 쓰는지 알아야댐 우리가 이 모든걸 다 만들어쓸수는 없어서 다른 사람들이 만들어놓은 패키지를 쓸 것이다 패키지속 모듈들 그 모듈들 속에 클래스오 ㅏ펑션들을 어떻게 잘 슬것인가? 바로바로 import라는 명령어를 통해서 쓸 것이다\n",
        "\n",
        "선생님 깃허브에 import.ipynb가보기 \n",
        "그러면 \n",
        "\n",
        "numpy라는 패키지가 나와용"
      ]
    },
    {
      "cell_type": "code",
      "metadata": {
        "id": "bsGSSHN7gG5U"
      },
      "source": [
        "import numpy as np\n",
        "n=np.random.randn(100) #얜 잠만 무시 ㄱ 얘는 걍 n이라는 거에다가 총 100개의 숫자를 만들은것이다. randn은 정규분포임 (randN 의 N이 normal 그게 하튼 0을 중심으로 정규분포를 갖는다)"
      ],
      "execution_count": 9,
      "outputs": []
    },
    {
      "cell_type": "code",
      "metadata": {
        "id": "BuEsiSmbgOyR"
      },
      "source": [
        "import matplotlib #얘도 패키지이름임 이 속에 pyplot.py라는 모듈이 있어여 그 모듈속에는 이제 func랑 class가 있지요 그 func\n",
        "#중에서는 hist라는 함수가 있어여 그래서 이런식으로 할 수 잇어용\n",
        "\n",
        "import matplotlib\n",
        "import matplotlib.pyplot\n",
        "from matplotlib import pyplot\n",
        "from matplotlib.pyplot import hist #이 hist는 matplotlib 패키지 쏙에 있는 pyplot이라는 모듈안에 들어있는 함수다"
      ],
      "execution_count": 10,
      "outputs": []
    },
    {
      "cell_type": "markdown",
      "metadata": {
        "id": "5Yvrn-7hhBD4"
      },
      "source": [
        "import matplotlib 는 맷플롯립을 불러온거\n",
        "\n",
        "그러면 matplotlib.pylot.hist(n)하면 함수도 불러올수 있고 아까 정규분포 했던 n을여기다 넣어주면은 그래프가 그려짐! 개신기반기"
      ]
    },
    {
      "cell_type": "markdown",
      "metadata": {
        "id": "630JucWohN2a"
      },
      "source": [
        "아니면 import matplotlib.pplot 하면 맷플롯리브의 모듈까지 다 불러와라 이말이래 여기서\n",
        "matplotlib.pyplot.hist(n)하면 또 그림 그려줌\n",
        "\n",
        "3번쨰꺼는 from matplotlib import pyplot해서 임포트를 하여간 파이플롯만했기 땜문에\n",
        "pyplot.hist(n)이렇게 앞에 pyplot만 찍어주면 댐 댐 댐 \n",
        "(from 상위개념 import 하위개념 근데 그 아래 쓸 때는 import 뒤 부분만 따서 써주면 된다. )\n",
        "\n",
        "from matplot.pyplot import hist\n",
        "하면 \n",
        "그냥 hist.(n)만 하면 되겠지여~?~?~? \n",
        "그냥 아주 대래대래대충 이해가 감\n",
        "\n",
        "하튼 그래서 import랑 from 그런 위치를 잘 써야댄다"
      ]
    },
    {
      "cell_type": "markdown",
      "metadata": {
        "id": "ClLwzbh7jMx9"
      },
      "source": [
        "![image.png](data:image/png;base64,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)\n",
        "\n",
        "\n",
        "#관련분야 패키지를 잘 쓰레 tensorflow는 인공지능 nltk는 텍스트 머 그럼"
      ]
    }
  ]
}