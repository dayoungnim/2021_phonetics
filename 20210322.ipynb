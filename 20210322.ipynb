{
  "nbformat": 4,
  "nbformat_minor": 0,
  "metadata": {
    "colab": {
      "name": "20210322",
      "provenance": [],
      "collapsed_sections": [],
      "authorship_tag": "ABX9TyOiN6ET/F3i17NGEkFGxB+Z",
      "include_colab_link": true
    },
    "kernelspec": {
      "name": "python3",
      "display_name": "Python 3"
    },
    "language_info": {
      "name": "python"
    }
  },
  "cells": [
    {
      "cell_type": "markdown",
      "metadata": {
        "id": "view-in-github",
        "colab_type": "text"
      },
      "source": [
        "<a href=\"https://colab.research.google.com/github/dayoungnim/class2021Spring/blob/main/20210322.ipynb\" target=\"_parent\"><img src=\"https://colab.research.google.com/assets/colab-badge.svg\" alt=\"Open In Colab\"/></a>"
      ]
    },
    {
      "cell_type": "markdown",
      "metadata": {
        "id": "du9x9p3pW_uG"
      },
      "source": [
        "# 오늘의 수업 중 과제!\n",
        "#이차함수 만들기 x의 제곱은 x**2"
      ]
    },
    {
      "cell_type": "code",
      "metadata": {
        "colab": {
          "base_uri": "https://localhost:8080/"
        },
        "id": "Lon2dn3SW_bg",
        "outputId": "f0876e3c-07a2-4f93-a2a6-e11e3a06015b"
      },
      "source": [
        "def func2(x,a,b,c):\n",
        "  y=(a*x**2)+(b*x)+c\n",
        "  return y\n",
        "\n",
        "func2(2,3,4,11)"
      ],
      "execution_count": null,
      "outputs": [
        {
          "output_type": "execute_result",
          "data": {
            "text/plain": [
              "31"
            ]
          },
          "metadata": {
            "tags": []
          },
          "execution_count": 28
        }
      ]
    },
    {
      "cell_type": "markdown",
      "metadata": {
        "id": "BBDT2gqXW7C1"
      },
      "source": [
        "이건 걍 필기임 오늘의 0322 필기"
      ]
    },
    {
      "cell_type": "code",
      "metadata": {
        "id": "GeBsKZ7LUmjU"
      },
      "source": [
        "def add(a,b):\n",
        "  return a+b\n",
        "\n",
        "def subtract(a,b):\n",
        "  return a-b\n",
        "\n",
        "def multiply(a,b):\n",
        "  return a*b\n",
        "\n",
        "def divide (a,b):\n",
        "  return a/b\n",
        "\n",
        "def func1 (x):\n",
        "  a=1\n",
        "  b=2\n",
        "  y=ax+b\n",
        "  return y\n",
        "\n",
        "def func11(x,a,b):\n",
        "  y=a*x+b\n",
        "  return y\n",
        "\n",
        "\n",
        "#왜만드냐?"
      ],
      "execution_count": null,
      "outputs": []
    },
    {
      "cell_type": "code",
      "metadata": {
        "colab": {
          "base_uri": "https://localhost:8080/"
        },
        "id": "UqrUWKM4VuDc",
        "outputId": "a9a229db-2651-4c87-ccd5-ec1d5d4e58d2"
      },
      "source": [
        "c=add(1,2); print(c)\n",
        "c=func11(1,2,3); print(c)"
      ],
      "execution_count": null,
      "outputs": [
        {
          "output_type": "stream",
          "text": [
            "3\n",
            "5\n"
          ],
          "name": "stdout"
        }
      ]
    },
    {
      "cell_type": "code",
      "metadata": {
        "id": "cxB9eRDJWEMY"
      },
      "source": [
        "def add (a,b):\n",
        "  c=a+b #이렇게 return으로 출력안하면"
      ],
      "execution_count": null,
      "outputs": []
    },
    {
      "cell_type": "code",
      "metadata": {
        "colab": {
          "base_uri": "https://localhost:8080/"
        },
        "id": "cUbEc9kbWGys",
        "outputId": "536652bf-7fde-4f18-8673-2a1b56f4f9c7"
      },
      "source": [
        "c=add(1,2); print(c)  #이렇게 오류는 안나고 None으로 출력댐 오호 참신기하구나 "
      ],
      "execution_count": null,
      "outputs": [
        {
          "output_type": "stream",
          "text": [
            "None\n"
          ],
          "name": "stdout"
        }
      ]
    },
    {
      "cell_type": "code",
      "metadata": {
        "id": "bYeeapUxWRi_"
      },
      "source": [
        "def add():\n",
        "  a=1 #입력도 없으면?"
      ],
      "execution_count": null,
      "outputs": []
    },
    {
      "cell_type": "code",
      "metadata": {
        "colab": {
          "base_uri": "https://localhost:8080/"
        },
        "id": "zn-Q_pFbWTrH",
        "outputId": "72a9c000-03a2-47c3-cb54-20bfd2065b3a"
      },
      "source": [
        "add(); print(c) #얘도 오류 안나고 None 따라서 입력/출력 없이함수를 만들 수 있다! 할수잇는일은 없지마는 "
      ],
      "execution_count": null,
      "outputs": [
        {
          "output_type": "stream",
          "text": [
            "None\n"
          ],
          "name": "stdout"
        }
      ]
    },
    {
      "cell_type": "code",
      "metadata": {
        "id": "gHzEiAe8WeDK"
      },
      "source": [
        "def add(a,b):\n",
        "  return a,b"
      ],
      "execution_count": null,
      "outputs": []
    },
    {
      "cell_type": "code",
      "metadata": {
        "colab": {
          "base_uri": "https://localhost:8080/"
        },
        "id": "wZYjb9DtWg-W",
        "outputId": "bad76020-7157-4b21-b616-1853cebe92c3"
      },
      "source": [
        "result=add(1,2); print(result)\n",
        "type(result)"
      ],
      "execution_count": null,
      "outputs": [
        {
          "output_type": "stream",
          "text": [
            "(1, 2)\n"
          ],
          "name": "stdout"
        },
        {
          "output_type": "execute_result",
          "data": {
            "text/plain": [
              "tuple"
            ]
          },
          "metadata": {
            "tags": []
          },
          "execution_count": 21
        }
      ]
    },
    {
      "cell_type": "markdown",
      "metadata": {
        "id": "P-JBFSQoaqZu"
      },
      "source": [
        "함수 module\n",
        "변수 a=1 \n",
        "함수와 변수를 함께 모듈화 한것이 class이다\n",
        "\n",
        "class란? oop인데 object oriented program 이다.\n",
        "파이썬은 클래스가 아주 개념이 잘돼있다 이게 무슨마린지~?!~??~!? 모지뭐지뭐지모지모야 뭐"
      ]
    },
    {
      "cell_type": "code",
      "metadata": {
        "id": "CgG5Uu-Jaq_i"
      },
      "source": [
        "class cal: #클래스 정의 / 클래스는 함수+변수가 동시에 덩어리로 뭠메메?? / 여기서 변수는 self.result임 여기서 result가 변수라고용용? \n",
        "#self는 이 클래스가 만들어내는 자기 자신이래\n",
        "  def __init__(self): #제일 처음 이 객체를 쓸 때 이 밑에 있는 문장이 실행되는 거\n",
        "    self.result=0 #나자신(self)의로 뭠메메?? / 여기서 변수는 self.result임 여기서 result가 변수라고용용? \n",
        "     #나자신의 변수인 result에다가 에다가 0을 넣어라 이말임 이게 실행이되는겨 여기까지는 걍 암기하세여암기\n",
        "  def add(self,n):\n",
        "    self.result+=n\n",
        "    return self.result"
      ],
      "execution_count": 1,
      "outputs": []
    },
    {
      "cell_type": "code",
      "metadata": {
        "id": "X6yoGnd6cQKE",
        "outputId": "33ec010e-d1f4-4946-cbb1-907c8620b16f",
        "colab": {
          "base_uri": "https://localhost:8080/"
        }
      },
      "source": [
        "#이제 저 클래스를 써보겠다\n",
        "\n",
        "A=cal() #A는 객체 A라는 객체를 찍어냈다\n",
        "A.result #Self는 A를 지칭하는 것"
      ],
      "execution_count": 2,
      "outputs": [
        {
          "output_type": "execute_result",
          "data": {
            "text/plain": [
              "0"
            ]
          },
          "metadata": {
            "tags": []
          },
          "execution_count": 2
        }
      ]
    },
    {
      "cell_type": "code",
      "metadata": {
        "id": "mi3EKA4BcxVR",
        "outputId": "1ac8faf4-5dfd-41d0-91da-4f2f6e249503",
        "colab": {
          "base_uri": "https://localhost:8080/"
        }
      },
      "source": [
        "A.add(4) #self는 안쓰는거라공?A니까? 아 못들음 "
      ],
      "execution_count": 3,
      "outputs": [
        {
          "output_type": "execute_result",
          "data": {
            "text/plain": [
              "4"
            ]
          },
          "metadata": {
            "tags": []
          },
          "execution_count": 3
        }
      ]
    },
    {
      "cell_type": "code",
      "metadata": {
        "id": "uym1O057dNVc",
        "outputId": "4d2629af-8e32-40cb-ce07-d372e2681bc2",
        "colab": {
          "base_uri": "https://localhost:8080/"
        }
      },
      "source": [
        "A.add(6)"
      ],
      "execution_count": 4,
      "outputs": [
        {
          "output_type": "execute_result",
          "data": {
            "text/plain": [
              "10"
            ]
          },
          "metadata": {
            "tags": []
          },
          "execution_count": 4
        }
      ]
    },
    {
      "cell_type": "markdown",
      "metadata": {
        "id": "ryKIvmSQdYLZ"
      },
      "source": [
        "과자 틀이 class 과자틀에 의해 만들어진 하나하나가 객체이니라"
      ]
    },
    {
      "cell_type": "code",
      "metadata": {
        "id": "wVbRQccXdbd1"
      },
      "source": [
        "B=cal()\n",
        "#B라는 객체하나 더 탄생쓰"
      ],
      "execution_count": 5,
      "outputs": []
    },
    {
      "cell_type": "code",
      "metadata": {
        "id": "bs-CzBWTdfZh",
        "outputId": "278d65ed-faed-4251-e118-bfe6fd95e249",
        "colab": {
          "base_uri": "https://localhost:8080/"
        }
      },
      "source": [
        "B.result #B는 새로 만든거잖어 그니까 그냥 0이야 10이아니고 이놈아"
      ],
      "execution_count": 6,
      "outputs": [
        {
          "output_type": "execute_result",
          "data": {
            "text/plain": [
              "0"
            ]
          },
          "metadata": {
            "tags": []
          },
          "execution_count": 6
        }
      ]
    },
    {
      "cell_type": "code",
      "metadata": {
        "id": "UKidn-nYdkb-",
        "outputId": "492f610a-d621-4e6a-9d05-8a2795bf37b1",
        "colab": {
          "base_uri": "https://localhost:8080/"
        }
      },
      "source": [
        "B.add(9)"
      ],
      "execution_count": 8,
      "outputs": [
        {
          "output_type": "execute_result",
          "data": {
            "text/plain": [
              "9"
            ]
          },
          "metadata": {
            "tags": []
          },
          "execution_count": 8
        }
      ]
    },
    {
      "cell_type": "markdown",
      "metadata": {
        "id": "nXHPCM7Zdqtg"
      },
      "source": [
        "모파썬에서 class부분 잘 읽어서 숙지해놓기! "
      ]
    }
  ]
}